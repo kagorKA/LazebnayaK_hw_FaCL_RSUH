{
 "cells": [
  {
   "attachments": {},
   "cell_type": "markdown",
   "metadata": {},
   "source": [
    "Задача 2.\n",
    "\n",
    "Возьмите любой большой (можно художественный) текст на русском языке, лучше целое произведение. Посчитайте лексическое разнообразие по леммам по формуле *количество уникальных лемм / общее количество всех слов * 100*."
   ]
  },
  {
   "cell_type": "code",
   "execution_count": null,
   "metadata": {},
   "outputs": [],
   "source": [
    "from razdel import tokenize\n",
    "from rnnmorph.predictor import RNNMorphPredictor\n",
    "\n",
    "mytext = open('/content/Фильмы, что я хочу посмотреть.txt', 'r+').read()\n",
    "\n",
    "#print(parsedtext[i].normal_form)\n",
    "mytextpred = RNNMorphPredictor(language='ru')\n",
    "o = [o.text for o in tokenize(mytext)]\n",
    "parsedtext = mytextpred.predict(o)\n",
    "allwords = []\n",
    "alllemmas = []\n",
    "for i in range(len(parsedtext)):\n",
    "  if parsedtext[i].word.isalpha() == True:\n",
    "    allwords.append(parsedtext[i].word)\n",
    "    alllemmas.append(parsedtext[i].normal_form)\n",
    "\n",
    "\n",
    "len(set(alllemmas)) / len(allwords) * 100"
   ]
  },
  {
   "attachments": {},
   "cell_type": "markdown",
   "metadata": {},
   "source": [
    "Задача 3.\n",
    "\n",
    "Возьмите текст на любом языке, модель для которого есть в UD. Создайте с помощью их сайта файл .conllu с разбором. С помощью питона посчитайте частотность лемм в этом тексте (т.е. текст вида \"Saat beşi beş geçe\" должен вернуть словарь-счетчик 'saat': 1, 'beş': 2, 'geçe': 1)."
   ]
  },
  {
   "cell_type": "code",
   "execution_count": null,
   "metadata": {},
   "outputs": [],
   "source": [
    "from collections import Counter\n",
    "import re\n",
    "listofwords = []\n",
    "ret = re.compile(r'\\d{1,2}\\t\\w+\\t(\\w+)\\t')\n",
    "conllutext = open('/content/spantext.conllu', 'r+', encoding='utf-8-sig').readlines()\n",
    "for line in conllutext:\n",
    "  for matches in re.finditer(ret, line):\n",
    "    if matches.group(1).isalpha() == True:\n",
    "      listofwords.append(matches.group(1))\n",
    "\n",
    "chastota = Counter(listofwords)"
   ]
  },
  {
   "attachments": {},
   "cell_type": "markdown",
   "metadata": {},
   "source": [
    "Задача 4.\n",
    "\n",
    "Постройте графическое дерево для любого предложения в вашем тексте из задачи 3. Оцените правильность разбора."
   ]
  },
  {
   "attachments": {},
   "cell_type": "markdown",
   "metadata": {},
   "source": [
    "Задача 1.\n",
    "\n",
    "Посчитайте, как часто в выбранном вами тексте прилагательное стоит сразу перед существительным, а как часто - наоборот. Достаточно вывести количество вхождений (столько-то раз встретилось прил + сущ, столько-то раз - сущ + прил). Подумайте, насколько можно доверять этим цифрам."
   ]
  },
  {
   "cell_type": "code",
   "execution_count": null,
   "metadata": {},
   "outputs": [],
   "source": [
    "from razdel import sentenize\n",
    "from razdel import tokenize\n",
    "import pymorphy2\n",
    "\n",
    "chastirechi = []\n",
    "for s in sentenize(mybook):\n",
    "  for token in tokenize(s.text):\n",
    "    chastirechi.append(morph.parse(token.text)[0].tag.POS)\n",
    "sushpril = 0\n",
    "prilsush = 0\n",
    "for i in range(len(chastirechi)):\n",
    "  if chastirechi[i] == 'NOUN' and chastirechi[i+1] == 'ADJF':\n",
    "    sushpril +=1\n",
    "  elif chastirechi[i] == 'ADJF' and chastirechi[i+1] == 'NOUN':\n",
    "    prilsush +=1\n",
    "print(f'Существительное + прилагательное: {sushpril}\\nПрилагательное+существительное: {prilsush}')\n",
    "\n",
    "\n",
    "'''Посчитано по роману \"Преступление и наказание: Существительное + прилагательное: 1541\n",
    "Прилагательное+существительное: 7919\n",
    "Вряд ли данные полностью можно считать корректными, так как мы не учитываем то, согласованы ли прилагательные\n",
    "и существительные. Из-за этого возможны ошибки по типу \"человек больших амбиций\", которое будет определено \n",
    "как \"существительное + прилагательное\". Кроме того, pymorphy считает деепричастия и местоимения типа \"такой\"\n",
    "как прилагательное, что тоже влияет на результаты. Возможны также погрешности ввиду неснятой омонимии. В данном\n",
    "случае также не учитываются словосочетания, где одно из слов взято в кавычки\n",
    "Однако результаты предсказуемо отображают большую частотность использования прилагательных в препозиции к\n",
    "существительному в русском языке.'''"
   ]
  },
  {
   "attachments": {},
   "cell_type": "markdown",
   "metadata": {},
   "source": [
    "Задача 2 (3 балла).\n",
    "\n",
    "Некоторые предлоги в русском языке могут управлять разными падежами (например, \"я еду в Лондон\" vs \"я живу в Лондоне\"). Давайте проанализируем эти предлоги и их падежи. Необходимо:\n",
    "\n",
    "составить список таких предлогов (РГ-80 вам в помощь)\n",
    "взять достаточно большой текст (можно большое художественное произведение)\n",
    "сделать морфоразбор этого текста (лучше не pymorphy)\n",
    "Посчитать, как часто и какие падежи встречаются у слова, идущего после предлога.\n",
    "Примечания: во-первых, имейте в виду, что иногда после предлога могут идти самые неожиданные вещи: \"я что, должен ехать на, черт побери, северный полюс?\". Во-вторых, неплохо бы учитывать отсутствие пунктуации (конечно, в норме, как нам кажется, предлог обязательно требует зависимое, но! \"да иди ты на!\") Эти штуки можно отсеять, если просто учитывать только заранее определенные падежи, а не считать все, какие встретились (так и None можно огрести).\n",
    "\n",
    "Если будете использовать RNNMoprph, возможно, понадобится регулярное выражение и немного терпения.\n",
    "\n",
    "\n",
    "в (что/чем), на (что/чем), по (чему/что), во (ком/что), за (чем/что/кого), с (чего/чем), между (чего/чем) под (что/чем), о (что/чем)"
   ]
  },
  {
   "cell_type": "code",
   "execution_count": null,
   "metadata": {},
   "outputs": [],
   "source": []
  }
 ],
 "metadata": {
  "language_info": {
   "name": "python"
  },
  "orig_nbformat": 4
 },
 "nbformat": 4,
 "nbformat_minor": 2
}
